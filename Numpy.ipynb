{
  "nbformat": 4,
  "nbformat_minor": 0,
  "metadata": {
    "colab": {
      "provenance": [],
      "authorship_tag": "ABX9TyP0DH/OdEdECcDH6EhE6G4l",
      "include_colab_link": true
    },
    "kernelspec": {
      "name": "python3",
      "display_name": "Python 3"
    },
    "language_info": {
      "name": "python"
    }
  },
  "cells": [
    {
      "cell_type": "markdown",
      "metadata": {
        "id": "view-in-github",
        "colab_type": "text"
      },
      "source": [
        "<a href=\"https://colab.research.google.com/github/Devi128/Numpy/blob/main/Numpy.ipynb\" target=\"_parent\"><img src=\"https://colab.research.google.com/assets/colab-badge.svg\" alt=\"Open In Colab\"/></a>"
      ]
    },
    {
      "cell_type": "code",
      "source": [
        "import numpy as np"
      ],
      "metadata": {
        "id": "wA93yflX4HM6"
      },
      "execution_count": 2,
      "outputs": []
    },
    {
      "cell_type": "markdown",
      "source": [
        "Perform arithmetic operations on NumPy arrays."
      ],
      "metadata": {
        "id": "dJK-TDsD4dWD"
      }
    },
    {
      "cell_type": "code",
      "source": [
        "a=np.array([1,3,4,5])\n",
        "b=np.array([2,6,8,7])\n",
        "print(\"addition:\",a+b)\n",
        "print(\"subtraction:\",a-b)\n",
        "print(\"multiplication:\",a*b)\n",
        "print(\"modulo:\",a%b)\n",
        "print(\"floor division:\",a//b)\n",
        "print(\"Exponentiation:\",a**2)"
      ],
      "metadata": {
        "colab": {
          "base_uri": "https://localhost:8080/"
        },
        "id": "kCyfG5zg5qO5",
        "outputId": "441e51e6-50d1-491c-b287-02ece107f474"
      },
      "execution_count": 7,
      "outputs": [
        {
          "output_type": "stream",
          "name": "stdout",
          "text": [
            "addition: [ 3  9 12 12]\n",
            "subtraction: [-1 -3 -4 -2]\n",
            "multiplication: [ 2 18 32 35]\n",
            "modulo: [1 3 4 5]\n",
            "floor division: [0 0 0 0]\n",
            "Exponentiation: [ 1  9 16 25]\n"
          ]
        }
      ]
    },
    {
      "cell_type": "markdown",
      "source": [
        "Write a script to compute the mean and standard deviation of a NumPy array."
      ],
      "metadata": {
        "id": "rVYmu35S7TzC"
      }
    },
    {
      "cell_type": "code",
      "source": [
        "data = np.array([11, 30, 4, 3, 52])\n",
        "mean_value = np.mean(data)\n",
        "std_dev = np.std(data)\n",
        "print(\"Data Array:\", data)\n",
        "print(\"Mean:\", mean_value)\n",
        "print(\"Standard Deviation:\", std_dev)\n"
      ],
      "metadata": {
        "colab": {
          "base_uri": "https://localhost:8080/"
        },
        "id": "MlSl04_G7dMy",
        "outputId": "891d097b-8e00-4601-a8b2-3a7d8e7b568d"
      },
      "execution_count": 8,
      "outputs": [
        {
          "output_type": "stream",
          "name": "stdout",
          "text": [
            "Data Array: [10 20 30 40 50]\n",
            "Mean: 30.0\n",
            "Standard Deviation: 14.142135623730951\n"
          ]
        }
      ]
    },
    {
      "cell_type": "markdown",
      "source": [
        "Create a NumPy array of integers from 10 to 50 with a step size of 5."
      ],
      "metadata": {
        "id": "Vw0aagHu85d3"
      }
    },
    {
      "cell_type": "code",
      "source": [
        "a=np.arange(10,50,5)\n",
        "print(a)"
      ],
      "metadata": {
        "colab": {
          "base_uri": "https://localhost:8080/"
        },
        "id": "YBi8U78j9BmG",
        "outputId": "c8500871-6b53-4a20-85c6-50c494c2aa40"
      },
      "execution_count": 13,
      "outputs": [
        {
          "output_type": "stream",
          "name": "stdout",
          "text": [
            "[10 15 20 25 30 35 40 45]\n"
          ]
        }
      ]
    },
    {
      "cell_type": "markdown",
      "source": [
        "Reshape the array into a 2x4 matrix."
      ],
      "metadata": {
        "id": "BFGU1-tY-etA"
      }
    },
    {
      "cell_type": "code",
      "source": [
        "arr=np.array([10,15,20,25,30,35,40,45])\n",
        "reshaped_array = arr.reshape(2, 4)\n",
        "print(\"Original Array:\", arr)\n",
        "print(\"Reshaped 2x4 Matrix:\")\n",
        "print(reshaped_array)\n"
      ],
      "metadata": {
        "colab": {
          "base_uri": "https://localhost:8080/"
        },
        "id": "TGemPLGI-jQH",
        "outputId": "3dc27f2f-35f9-4281-813c-322f8a8fd5cf"
      },
      "execution_count": 14,
      "outputs": [
        {
          "output_type": "stream",
          "name": "stdout",
          "text": [
            "Original Array: [10 15 20 25 30 35 40 45]\n",
            "Reshaped 2x4 Matrix:\n",
            "[[10 15 20 25]\n",
            " [30 35 40 45]]\n"
          ]
        }
      ]
    },
    {
      "cell_type": "markdown",
      "source": [
        "Given the array arr = np.array([[1, 2, 3], [4, 5, 6], [7, 8, 9]]):\n",
        "•\n",
        "Extract the sub-matrix containing the last two rows and first two columns.\n",
        "•\n",
        "Replace all elements greater than 4 with 0."
      ],
      "metadata": {
        "id": "N6c2yhDY_DJu"
      }
    },
    {
      "cell_type": "code",
      "source": [
        "arr=np.array([[1,2,3],[4,5,6],[7,8,9]])\n",
        "submatrix=arr[1:, :2]\n",
        "arr[arr>4]=0\n",
        "print(arr)\n",
        "print(submatrix)"
      ],
      "metadata": {
        "colab": {
          "base_uri": "https://localhost:8080/"
        },
        "id": "hMAPXz8W_KZU",
        "outputId": "7fa9029a-0fbc-4ee3-e368-75a1447e10fe"
      },
      "execution_count": 21,
      "outputs": [
        {
          "output_type": "stream",
          "name": "stdout",
          "text": [
            "[[1 2 3]\n",
            " [4 0 0]\n",
            " [0 0 0]]\n",
            "[[4 0]\n",
            " [0 0]]\n"
          ]
        }
      ]
    },
    {
      "cell_type": "markdown",
      "source": [
        "Create two 1D arrays:\n",
        "•\n",
        "a = np.array([1, 2, 3])\n",
        "•\n",
        "b = np.array([4, 5, 6])\n",
        "•\n",
        "Perform element-wise addition, multiplication, and division."
      ],
      "metadata": {
        "id": "CYO2MX20CHcc"
      }
    },
    {
      "cell_type": "code",
      "source": [
        "a=np.array([1,2,3])\n",
        "b=np.array([4,5,6])\n",
        "print(\"addition:\",a+b)\n",
        "print(\"multiplication:\",a*b)\n",
        "print(\"division:\",a/b)"
      ],
      "metadata": {
        "colab": {
          "base_uri": "https://localhost:8080/"
        },
        "id": "izxk19U3CN8-",
        "outputId": "33b5b6d0-9ed3-4f77-a1e2-445d337cdf74"
      },
      "execution_count": 22,
      "outputs": [
        {
          "output_type": "stream",
          "name": "stdout",
          "text": [
            "addition: [5 7 9]\n",
            "multiplication: [ 4 10 18]\n",
            "division: [0.25 0.4  0.5 ]\n"
          ]
        }
      ]
    },
    {
      "cell_type": "markdown",
      "source": [
        "Create a random NumPy array of size (4, 4). Compute:\n",
        "•\n",
        "Mean of each column.\n",
        "•\n",
        "Maximum value of the entire array.\n",
        "•\n",
        "Sum of all elements"
      ],
      "metadata": {
        "id": "mUthCHFmC7ud"
      }
    },
    {
      "cell_type": "code",
      "source": [
        "arr=np.random.rand(4,4)\n",
        "mean=np.mean(arr,axis=0)\n",
        "max_value=np.max(arr)\n",
        "sum=np.sum(arr)\n",
        "print(arr)\n",
        "print(\"mean of each column:\",mean)\n",
        "print(\"Maximum value of the entire array:\",max_value)\n",
        "print(\"Sum of all elements:\",sum)"
      ],
      "metadata": {
        "colab": {
          "base_uri": "https://localhost:8080/"
        },
        "id": "TdKPhY2GDCRN",
        "outputId": "d1cc4480-7747-4655-aa7b-4040ba7a9b58"
      },
      "execution_count": 25,
      "outputs": [
        {
          "output_type": "stream",
          "name": "stdout",
          "text": [
            "[[0.04423149 0.12707596 0.44399077 0.46066536]\n",
            " [0.27942571 0.22606665 0.92313374 0.95613603]\n",
            " [0.48845934 0.59160933 0.56933083 0.80138393]\n",
            " [0.64363148 0.93749772 0.36715308 0.82064467]]\n",
            "mean of each column: [0.363937   0.47056241 0.5759021  0.7597075 ]\n",
            "Maximum value of the entire array: 0.9561360277822751\n",
            "Sum of all elements: 8.680436062482107\n"
          ]
        }
      ]
    },
    {
      "cell_type": "markdown",
      "source": [
        "Given the array arr = np.array([1, 2, 3, 4]), add 10 to each element and multiply the result by 2."
      ],
      "metadata": {
        "id": "v-vrC0x6FMIK"
      }
    },
    {
      "cell_type": "code",
      "source": [
        " arr = np.array([1, 2, 3, 4])\n",
        " add=arr+10\n",
        " result=add*2\n",
        " print(\"result:\",result)"
      ],
      "metadata": {
        "colab": {
          "base_uri": "https://localhost:8080/"
        },
        "id": "KgXlfgfeFRNJ",
        "outputId": "7d5c95d0-96ac-425d-d247-df6c1baf3e39"
      },
      "execution_count": 26,
      "outputs": [
        {
          "output_type": "stream",
          "name": "stdout",
          "text": [
            "result: [22 24 26 28]\n"
          ]
        }
      ]
    },
    {
      "cell_type": "markdown",
      "source": [
        "Perform advanced slicing and indexing on a 3D array. Create a 3D NumPy array arr of shape (3, 4, 5) with random integers ranging from 1 to 100. Perform the following:\n",
        "•\n",
        "Extract the second \"layer\" (i.e., the second 2D array) in the first dimension.\n",
        "•\n",
        "Extract the first two rows and the last three columns from each \"layer.\"\n",
        "•\n",
        "Replace all elements divisible by 3 with -1."
      ],
      "metadata": {
        "id": "18k38jXAGHvT"
      }
    },
    {
      "cell_type": "code",
      "source": [
        "arr = np.random.randint(1, 101, size=(3, 4, 5))\n",
        "second_layer = arr[1]\n",
        "subset = arr[:, :2, -3:]\n",
        "arr[arr % 3 == 0] = -1\n",
        "print(\"Original 3D Array:\")\n",
        "print(arr)\n",
        "print(\"Second 2D array in the first dimension\",second_layer)\n",
        "print(\"First two rows, last three columns from each layer\",subset)\n"
      ],
      "metadata": {
        "colab": {
          "base_uri": "https://localhost:8080/"
        },
        "id": "M8P1s9DfGLz7",
        "outputId": "5ba19bbd-95f6-44c7-a210-24761146f965"
      },
      "execution_count": 27,
      "outputs": [
        {
          "output_type": "stream",
          "name": "stdout",
          "text": [
            "Original 3D Array:\n",
            "[[[ 43  83  -1  -1  20]\n",
            "  [ 25  91  88  -1  -1]\n",
            "  [ 29  -1  49  20  29]\n",
            "  [ -1  59   1  98  85]]\n",
            "\n",
            " [[ 86  -1  92  -1  74]\n",
            "  [ 47  59  49  74  -1]\n",
            "  [ -1  25  73  52  -1]\n",
            "  [ 46  98   1  26  -1]]\n",
            "\n",
            " [[ 44  -1  -1  26  -1]\n",
            "  [ -1 100  94  64  77]\n",
            "  [ -1  -1  37 100  -1]\n",
            "  [ -1  95  62  77  -1]]]\n",
            "Second 2D array in the first dimension [[86 -1 92 -1 74]\n",
            " [47 59 49 74 -1]\n",
            " [-1 25 73 52 -1]\n",
            " [46 98  1 26 -1]]\n",
            "First two rows, last three columns from each layer [[[-1 -1 20]\n",
            "  [88 -1 -1]]\n",
            "\n",
            " [[92 -1 74]\n",
            "  [49 74 -1]]\n",
            "\n",
            " [[-1 26 -1]\n",
            "  [94 64 77]]]\n"
          ]
        }
      ]
    },
    {
      "cell_type": "markdown",
      "source": [
        "Work with broadcasting and advanced operations in NumPy. Create a NumPy array arr of shape (3, 3) with random integers between\n",
        "1 and 20. Perform the following:\n",
        "•\n",
        "Subtract the mean of each row from its respective elements (row-wise normalization).\n",
        "•\n",
        "Create a new array by squaring all the elements in arr.\n",
        "•\n",
        "Find the indices of the top 3 maximum values in the entire array."
      ],
      "metadata": {
        "id": "LrGlEXx8HP4Q"
      }
    },
    {
      "cell_type": "code",
      "source": [
        "arr = np.random.randint(1, 21, size=(3, 3))\n",
        "row_means = np.mean(arr, axis=1, keepdims=True)\n",
        "normalized_arr = arr - row_means\n",
        "squared_arr = np.square(arr)\n",
        "flat_arr = arr.flatten()\n",
        "top_3_indices = np.argsort(flat_arr)[-3:]\n",
        "print(\"Original Array:\",arr)\n",
        "print(\"Row-wise Normalized Array:\",normalized_arr)\n",
        "print(\"Squared Array:\",squared_arr)\n",
        "print(\"Indices of Top 3 Maximum Values (flattened array):\",top_3_indices)\n",
        "top_3_indices_2d = np.unravel_index(top_3_indices, arr.shape)\n",
        "print(\"Row and Column Indices of Top 3 Maximum Values:\",top_3_indices_2d)"
      ],
      "metadata": {
        "colab": {
          "base_uri": "https://localhost:8080/"
        },
        "id": "VQeJNv00HU2r",
        "outputId": "0cef433c-baad-4563-a07f-6f16c4907872"
      },
      "execution_count": 28,
      "outputs": [
        {
          "output_type": "stream",
          "name": "stdout",
          "text": [
            "Original Array: [[ 9 14  4]\n",
            " [11 17  9]\n",
            " [ 8 14 11]]\n",
            "Row-wise Normalized Array: [[ 0.          5.         -5.        ]\n",
            " [-1.33333333  4.66666667 -3.33333333]\n",
            " [-3.          3.          0.        ]]\n",
            "Squared Array: [[ 81 196  16]\n",
            " [121 289  81]\n",
            " [ 64 196 121]]\n",
            "Indices of Top 3 Maximum Values (flattened array): [1 7 4]\n",
            "Row and Column Indices of Top 3 Maximum Values: (array([0, 2, 1]), array([1, 1, 1]))\n"
          ]
        }
      ]
    }
  ]
}